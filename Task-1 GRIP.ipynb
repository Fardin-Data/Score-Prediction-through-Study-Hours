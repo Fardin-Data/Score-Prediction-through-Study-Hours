{
 "cells": [
  {
   "cell_type": "markdown",
   "id": "1d66f7d5",
   "metadata": {},
   "source": [
    "---\n",
    "<div style=\"text-align: center;\">\n",
    "    <h2 style=\"font-size: 2em;\">The Sparks Foundation</h2>\n",
    "    <h2 style=\"font-size: 1.5em;\">Graduate Rotational Internship Program</h2>\n",
    "    </div>\n",
    "    \n",
    "---\n",
    "\n",
    "<div>\n",
    "    <p><span style=\"color: yellow;\">Task 1:</span> Prediction Using Supervised Machine Learning</p>\n",
    "    <p><span style=\"color: yellow;\">Author:</span> Fardin Khan</p>\n",
    "</div>"
   ]
  },
  {
   "cell_type": "markdown",
   "id": "2df248bb",
   "metadata": {},
   "source": [
    "### Introduction:\n",
    "We aim to forecast a student's anticipated exam score by utilizing a linear regression model, with the input variable being the number of hours they have dedicated to studying."
   ]
  },
  {
   "cell_type": "code",
   "execution_count": 205,
   "id": "3308d32b",
   "metadata": {},
   "outputs": [],
   "source": [
    "#Importing all required Libraries\n",
    "import pandas as pd\n",
    "import numpy as np\n",
    "import matplotlib.pyplot as plt"
   ]
  },
  {
   "cell_type": "code",
   "execution_count": 206,
   "id": "2532f973",
   "metadata": {},
   "outputs": [],
   "source": [
    "#Reading data from source\n",
    "url=\"http://bit.ly/w-data\"\n",
    "df=pd.read_csv(url)"
   ]
  },
  {
   "cell_type": "code",
   "execution_count": 207,
   "id": "f80f381a",
   "metadata": {},
   "outputs": [
    {
     "data": {
      "text/html": [
       "<div>\n",
       "<style scoped>\n",
       "    .dataframe tbody tr th:only-of-type {\n",
       "        vertical-align: middle;\n",
       "    }\n",
       "\n",
       "    .dataframe tbody tr th {\n",
       "        vertical-align: top;\n",
       "    }\n",
       "\n",
       "    .dataframe thead th {\n",
       "        text-align: right;\n",
       "    }\n",
       "</style>\n",
       "<table border=\"1\" class=\"dataframe\">\n",
       "  <thead>\n",
       "    <tr style=\"text-align: right;\">\n",
       "      <th></th>\n",
       "      <th>Hours</th>\n",
       "      <th>Scores</th>\n",
       "    </tr>\n",
       "  </thead>\n",
       "  <tbody>\n",
       "    <tr>\n",
       "      <th>0</th>\n",
       "      <td>2.5</td>\n",
       "      <td>21</td>\n",
       "    </tr>\n",
       "    <tr>\n",
       "      <th>1</th>\n",
       "      <td>5.1</td>\n",
       "      <td>47</td>\n",
       "    </tr>\n",
       "    <tr>\n",
       "      <th>2</th>\n",
       "      <td>3.2</td>\n",
       "      <td>27</td>\n",
       "    </tr>\n",
       "    <tr>\n",
       "      <th>3</th>\n",
       "      <td>8.5</td>\n",
       "      <td>75</td>\n",
       "    </tr>\n",
       "    <tr>\n",
       "      <th>4</th>\n",
       "      <td>3.5</td>\n",
       "      <td>30</td>\n",
       "    </tr>\n",
       "  </tbody>\n",
       "</table>\n",
       "</div>"
      ],
      "text/plain": [
       "   Hours  Scores\n",
       "0    2.5      21\n",
       "1    5.1      47\n",
       "2    3.2      27\n",
       "3    8.5      75\n",
       "4    3.5      30"
      ]
     },
     "execution_count": 207,
     "metadata": {},
     "output_type": "execute_result"
    }
   ],
   "source": [
    "df.head()"
   ]
  },
  {
   "cell_type": "markdown",
   "id": "9e00e00d",
   "metadata": {},
   "source": [
    "### EDA:"
   ]
  },
  {
   "cell_type": "code",
   "execution_count": 208,
   "id": "5a3800a8",
   "metadata": {},
   "outputs": [
    {
     "data": {
      "text/plain": [
       "False"
      ]
     },
     "execution_count": 208,
     "metadata": {},
     "output_type": "execute_result"
    }
   ],
   "source": [
    "#Checking null values\n",
    "df.isnull().sum().any()"
   ]
  },
  {
   "cell_type": "code",
   "execution_count": 209,
   "id": "4e7ead71",
   "metadata": {},
   "outputs": [
    {
     "data": {
      "text/plain": [
       "0"
      ]
     },
     "execution_count": 209,
     "metadata": {},
     "output_type": "execute_result"
    }
   ],
   "source": [
    "#Checking Duplicates\n",
    "df.duplicated().sum()"
   ]
  },
  {
   "cell_type": "code",
   "execution_count": 210,
   "id": "2d634e02",
   "metadata": {},
   "outputs": [
    {
     "name": "stdout",
     "output_type": "stream",
     "text": [
      "<class 'pandas.core.frame.DataFrame'>\n",
      "RangeIndex: 25 entries, 0 to 24\n",
      "Data columns (total 2 columns):\n",
      " #   Column  Non-Null Count  Dtype  \n",
      "---  ------  --------------  -----  \n",
      " 0   Hours   25 non-null     float64\n",
      " 1   Scores  25 non-null     int64  \n",
      "dtypes: float64(1), int64(1)\n",
      "memory usage: 528.0 bytes\n"
     ]
    }
   ],
   "source": [
    "#Checking datatypes and the entries in the dataset\n",
    "df.info()"
   ]
  },
  {
   "cell_type": "code",
   "execution_count": 211,
   "id": "f4bda36e",
   "metadata": {},
   "outputs": [
    {
     "data": {
      "text/html": [
       "<div>\n",
       "<style scoped>\n",
       "    .dataframe tbody tr th:only-of-type {\n",
       "        vertical-align: middle;\n",
       "    }\n",
       "\n",
       "    .dataframe tbody tr th {\n",
       "        vertical-align: top;\n",
       "    }\n",
       "\n",
       "    .dataframe thead th {\n",
       "        text-align: right;\n",
       "    }\n",
       "</style>\n",
       "<table border=\"1\" class=\"dataframe\">\n",
       "  <thead>\n",
       "    <tr style=\"text-align: right;\">\n",
       "      <th></th>\n",
       "      <th>Hours</th>\n",
       "      <th>Scores</th>\n",
       "    </tr>\n",
       "  </thead>\n",
       "  <tbody>\n",
       "    <tr>\n",
       "      <th>count</th>\n",
       "      <td>25.000000</td>\n",
       "      <td>25.000000</td>\n",
       "    </tr>\n",
       "    <tr>\n",
       "      <th>mean</th>\n",
       "      <td>5.012000</td>\n",
       "      <td>51.480000</td>\n",
       "    </tr>\n",
       "    <tr>\n",
       "      <th>std</th>\n",
       "      <td>2.525094</td>\n",
       "      <td>25.286887</td>\n",
       "    </tr>\n",
       "    <tr>\n",
       "      <th>min</th>\n",
       "      <td>1.100000</td>\n",
       "      <td>17.000000</td>\n",
       "    </tr>\n",
       "    <tr>\n",
       "      <th>25%</th>\n",
       "      <td>2.700000</td>\n",
       "      <td>30.000000</td>\n",
       "    </tr>\n",
       "    <tr>\n",
       "      <th>50%</th>\n",
       "      <td>4.800000</td>\n",
       "      <td>47.000000</td>\n",
       "    </tr>\n",
       "    <tr>\n",
       "      <th>75%</th>\n",
       "      <td>7.400000</td>\n",
       "      <td>75.000000</td>\n",
       "    </tr>\n",
       "    <tr>\n",
       "      <th>max</th>\n",
       "      <td>9.200000</td>\n",
       "      <td>95.000000</td>\n",
       "    </tr>\n",
       "  </tbody>\n",
       "</table>\n",
       "</div>"
      ],
      "text/plain": [
       "           Hours     Scores\n",
       "count  25.000000  25.000000\n",
       "mean    5.012000  51.480000\n",
       "std     2.525094  25.286887\n",
       "min     1.100000  17.000000\n",
       "25%     2.700000  30.000000\n",
       "50%     4.800000  47.000000\n",
       "75%     7.400000  75.000000\n",
       "max     9.200000  95.000000"
      ]
     },
     "execution_count": 211,
     "metadata": {},
     "output_type": "execute_result"
    }
   ],
   "source": [
    "#Getting statatistical summary of data\n",
    "df.describe()"
   ]
  },
  {
   "cell_type": "code",
   "execution_count": 212,
   "id": "cb627349",
   "metadata": {},
   "outputs": [
    {
     "data": {
      "text/plain": [
       "Text(0.5, 1.0, 'Relationship Between Hours Studied & Scores')"
      ]
     },
     "execution_count": 212,
     "metadata": {},
     "output_type": "execute_result"
    },
    {
     "data": {
      "image/png": "[encoded data removed]",
      "text/plain": [
       "<Figure size 640x480 with 1 Axes>"
      ]
     },
     "metadata": {},
     "output_type": "display_data"
    }
   ],
   "source": [
    "#Checking the relationship between feature and the label\n",
    "plt.style.use('dark_background')\n",
    "plt.scatter(data=df, x='Hours', y='Scores')\n",
    "plt.title('Relationship Between Hours Studied & Scores')"
   ]
  },
  {
   "cell_type": "markdown",
   "id": "9e8eb6ec",
   "metadata": {},
   "source": [
    "From the above visualization we can simply see that there is a linear relationship between number of hours studied and score."
   ]
  },
  {
   "cell_type": "markdown",
   "id": "88050175",
   "metadata": {},
   "source": [
    "### Defining Feature & Label:\n",
    "Feature(Attribute/Input), and Label(Output)"
   ]
  },
  {
   "cell_type": "code",
   "execution_count": 213,
   "id": "d43d9d72",
   "metadata": {},
   "outputs": [],
   "source": [
    "x=df[['Hours']].values #making Hours 2d arry as, while fitting the model it requires 2d input for features\n",
    "y=df['Scores'].values"
   ]
  },
  {
   "cell_type": "markdown",
   "id": "bcaee382",
   "metadata": {},
   "source": [
    "### Spliting the data into training and test sets:"
   ]
  },
  {
   "cell_type": "code",
   "execution_count": 214,
   "id": "26125c5c",
   "metadata": {},
   "outputs": [],
   "source": [
    "#Utilizing Scikit-learn library for spliting\n",
    "from sklearn.model_selection import train_test_split as tts"
   ]
  },
  {
   "cell_type": "code",
   "execution_count": 215,
   "id": "00cbb62d",
   "metadata": {},
   "outputs": [],
   "source": [
    "x_train, x_test, y_train, y_test= tts(x,y, test_size=0.3, random_state=1)"
   ]
  },
  {
   "cell_type": "markdown",
   "id": "f08b67bd",
   "metadata": {},
   "source": [
    "### Let's train the model now:"
   ]
  },
  {
   "cell_type": "code",
   "execution_count": 216,
   "id": "b5b459d3",
   "metadata": {},
   "outputs": [
    {
     "data": {
      "text/plain": [
       "LinearRegression()"
      ]
     },
     "execution_count": 216,
     "metadata": {},
     "output_type": "execute_result"
    }
   ],
   "source": [
    "#Using linear regression algorithm for training the model\n",
    "#Utilizing Scikit-learn library to import the linear regression algorithm\n",
    "from sklearn.linear_model import LinearRegression\n",
    "#Using linear regression algorithm for training the model\n",
    "lr= LinearRegression()\n",
    "lr.fit(x_train, y_train)"
   ]
  },
  {
   "cell_type": "markdown",
   "id": "0505d0a4",
   "metadata": {},
   "source": [
    "### Let's visualize the best fit line:"
   ]
  },
  {
   "cell_type": "code",
   "execution_count": 217,
   "id": "41d3b3b1",
   "metadata": {},
   "outputs": [
    {
     "data": {
      "image/png": "[encoded data removed]",
      "text/plain": [
       "<Figure size 640x480 with 1 Axes>"
      ]
     },
     "metadata": {},
     "output_type": "display_data"
    }
   ],
   "source": [
    "#equation of regression line\n",
    "Line= lr.coef_*x+lr.intercept_\n",
    "\n",
    "#visualizing the results\n",
    "plt.scatter(x,y)\n",
    "plt.plot(x, Line, color='lightseagreen')\n",
    "plt.show()"
   ]
  },
  {
   "cell_type": "markdown",
   "id": "f15c4d79",
   "metadata": {},
   "source": [
    "### Making Predictions;"
   ]
  },
  {
   "cell_type": "code",
   "execution_count": 218,
   "id": "bd9496a5",
   "metadata": {},
   "outputs": [],
   "source": [
    "y_pred= lr.predict(x_test)"
   ]
  },
  {
   "cell_type": "markdown",
   "id": "14ab9457",
   "metadata": {},
   "source": [
    "### Actual vs Predicted"
   ]
  },
  {
   "cell_type": "code",
   "execution_count": 219,
   "id": "d72cc5d2",
   "metadata": {},
   "outputs": [],
   "source": [
    "Prediction=pd.DataFrame({'Actual': y_test, 'Predicted': y_pred}).reset_index(drop=True)"
   ]
  },
  {
   "cell_type": "code",
   "execution_count": 220,
   "id": "47586b1f",
   "metadata": {},
   "outputs": [
    {
     "data": {
      "text/html": [
       "<div>\n",
       "<style scoped>\n",
       "    .dataframe tbody tr th:only-of-type {\n",
       "        vertical-align: middle;\n",
       "    }\n",
       "\n",
       "    .dataframe tbody tr th {\n",
       "        vertical-align: top;\n",
       "    }\n",
       "\n",
       "    .dataframe thead th {\n",
       "        text-align: right;\n",
       "    }\n",
       "</style>\n",
       "<table border=\"1\" class=\"dataframe\">\n",
       "  <thead>\n",
       "    <tr style=\"text-align: right;\">\n",
       "      <th></th>\n",
       "      <th>Actual</th>\n",
       "      <th>Predicted</th>\n",
       "    </tr>\n",
       "  </thead>\n",
       "  <tbody>\n",
       "    <tr>\n",
       "      <th>0</th>\n",
       "      <td>17</td>\n",
       "      <td>9.939530</td>\n",
       "    </tr>\n",
       "    <tr>\n",
       "      <th>1</th>\n",
       "      <td>42</td>\n",
       "      <td>32.843201</td>\n",
       "    </tr>\n",
       "    <tr>\n",
       "      <th>2</th>\n",
       "      <td>24</td>\n",
       "      <td>18.268138</td>\n",
       "    </tr>\n",
       "    <tr>\n",
       "      <th>3</th>\n",
       "      <td>75</td>\n",
       "      <td>86.979152</td>\n",
       "    </tr>\n",
       "    <tr>\n",
       "      <th>4</th>\n",
       "      <td>54</td>\n",
       "      <td>48.459341</td>\n",
       "    </tr>\n",
       "    <tr>\n",
       "      <th>5</th>\n",
       "      <td>85</td>\n",
       "      <td>78.650544</td>\n",
       "    </tr>\n",
       "    <tr>\n",
       "      <th>6</th>\n",
       "      <td>67</td>\n",
       "      <td>61.993329</td>\n",
       "    </tr>\n",
       "    <tr>\n",
       "      <th>7</th>\n",
       "      <td>69</td>\n",
       "      <td>75.527316</td>\n",
       "    </tr>\n",
       "  </tbody>\n",
       "</table>\n",
       "</div>"
      ],
      "text/plain": [
       "   Actual  Predicted\n",
       "0      17   9.939530\n",
       "1      42  32.843201\n",
       "2      24  18.268138\n",
       "3      75  86.979152\n",
       "4      54  48.459341\n",
       "5      85  78.650544\n",
       "6      67  61.993329\n",
       "7      69  75.527316"
      ]
     },
     "execution_count": 220,
     "metadata": {},
     "output_type": "execute_result"
    }
   ],
   "source": [
    "Prediction"
   ]
  },
  {
   "cell_type": "markdown",
   "id": "b76fb602",
   "metadata": {},
   "source": [
    "### Evaluating the model:"
   ]
  },
  {
   "cell_type": "code",
   "execution_count": 221,
   "id": "a3544c24",
   "metadata": {},
   "outputs": [],
   "source": [
    "#using scikit-learn library to import the metrics\n",
    "from sklearn import metrics as mt"
   ]
  },
  {
   "cell_type": "code",
   "execution_count": 222,
   "id": "47831aaf",
   "metadata": {},
   "outputs": [
    {
     "data": {
      "text/plain": [
       "0.89"
      ]
     },
     "execution_count": 222,
     "metadata": {},
     "output_type": "execute_result"
    }
   ],
   "source": [
    "#using R-squared(r2_score) as an metric to evaluate our model which returns a value\n",
    "#It ranges from 0 to 1, and a higher value indicates a better fit.\n",
    "round(mt.r2_score(y_test, y_pred),2)"
   ]
  },
  {
   "cell_type": "markdown",
   "id": "bf0d129b",
   "metadata": {},
   "source": [
    "In the above output one can see that our model is performing really well and is ready for real world predictions."
   ]
  },
  {
   "cell_type": "markdown",
   "id": "002da23c",
   "metadata": {},
   "source": [
    "### Making function which will take hours as an input and will return score:\n",
    "As while giving inputs into model to predict the result it takes 2d input, so for the convinence I am making function so that user can simply input the hrs and get score."
   ]
  },
  {
   "cell_type": "code",
   "execution_count": 223,
   "id": "b9dd0f99",
   "metadata": {},
   "outputs": [],
   "source": [
    "def predict_score(x):\n",
    "    return round(lr.predict([[x]])[0],2)"
   ]
  },
  {
   "cell_type": "markdown",
   "id": "2e59a32d",
   "metadata": {},
   "source": [
    "### Predicting score of student wo studies 9.25 hrs/day:"
   ]
  },
  {
   "cell_type": "code",
   "execution_count": 224,
   "id": "81d847e5",
   "metadata": {},
   "outputs": [
    {
     "data": {
      "text/plain": [
       "94.79"
      ]
     },
     "execution_count": 224,
     "metadata": {},
     "output_type": "execute_result"
    }
   ],
   "source": [
    "predict_score(9.25)"
   ]
  },
  {
   "cell_type": "markdown",
   "id": "8b25837b",
   "metadata": {},
   "source": [
    "### Saving the model to a file facilitates easy transfer and sharing:"
   ]
  },
  {
   "cell_type": "code",
   "execution_count": 225,
   "id": "d3780d3b",
   "metadata": {},
   "outputs": [],
   "source": [
    "import pickle"
   ]
  },
  {
   "cell_type": "markdown",
   "id": "2f24fc74",
   "metadata": {},
   "source": [
    "Pickle is a Python module that allows you to serialize and deserialize Python objects, making it easy to save and load machine learning models, among other things."
   ]
  },
  {
   "cell_type": "code",
   "execution_count": 226,
   "id": "850a86f6",
   "metadata": {},
   "outputs": [],
   "source": [
    "with open (\"score_prediction_model.pkl\", \"wb\") as file:\n",
    "    pickle.dump(lr, file)"
   ]
  },
  {
   "cell_type": "markdown",
   "id": "11e0f04a",
   "metadata": {},
   "source": [
    "Now one can easily use this \"score_prediction_model.pkl\" file only to import the model without loading this entire ipynb file, and utilize it for predictions."
   ]
  },
  {
   "cell_type": "markdown",
   "id": "ffd95706",
   "metadata": {},
   "source": [
    "---"
   ]
  }
 ],
 "metadata": {
  "kernelspec": {
   "display_name": "Python 3 (ipykernel)",
   "language": "python",
   "name": "python3"
  },
  "language_info": {
   "codemirror_mode": {
    "name": "ipython",
    "version": 3
   },
   "file_extension": ".py",
   "mimetype": "text/x-python",
   "name": "python",
   "nbconvert_exporter": "python",
   "pygments_lexer": "ipython3",
   "version": "3.9.13"
  }
 },
 "nbformat": 4,
 "nbformat_minor": 5
}
